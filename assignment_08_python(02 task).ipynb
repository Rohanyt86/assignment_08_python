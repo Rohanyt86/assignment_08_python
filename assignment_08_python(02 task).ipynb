{
 "cells": [
  {
   "cell_type": "markdown",
   "id": "81de74b0",
   "metadata": {},
   "source": [
    "#### Q1. You are writing code for a company. The requirement of the company is that you create a python function that will check whether the password entered by the user is correct or not. The function should take the password as input and return the string “Valid Password” if the entered password follows the below-given password guidelines else it should return “Invalid Password”.\n",
    "- Note: 1. The Password should contain at least two uppercase letters and at least two lowercase letters.\n",
    "- 2. The Password should contain at least a number and three special characters.\n",
    "- 3. The length of the password should be 10 characters long."
   ]
  },
  {
   "cell_type": "code",
   "execution_count": 1,
   "id": "421b3b39",
   "metadata": {},
   "outputs": [
    {
     "name": "stdout",
     "output_type": "stream",
     "text": [
      "Enter the password: LOpo12#$%l\n",
      "The password is valid\n"
     ]
    }
   ],
   "source": [
    "import string\n",
    "\n",
    "def password(user):\n",
    "    if len(user) != 10:\n",
    "        return \"Password must be exactly 10 characters long\"\n",
    "    \n",
    "    lower = 0\n",
    "    upper = 0\n",
    "    digit = 0\n",
    "    special = 0\n",
    "\n",
    "    for i in user:\n",
    "        if i.isupper():\n",
    "            upper += 1\n",
    "        elif i.islower():\n",
    "            lower += 1\n",
    "        elif i.isdigit():\n",
    "            digit += 1\n",
    "        elif i in string.punctuation:\n",
    "            special += 1\n",
    "    \n",
    "    if upper >= 2 and lower >= 2 and digit >= 1 and special >= 3:\n",
    "        return \"The password is valid\"\n",
    "    else:\n",
    "        return \"Password must contain at least two uppercase letters, two lowercase letters, one digit, and three special characters.\"\n",
    "\n",
    "user = input(\"Enter the password: \")\n",
    "result = password(user)\n",
    "print(result)\n"
   ]
  },
  {
   "cell_type": "markdown",
   "id": "2fe29647",
   "metadata": {},
   "source": [
    "#### Q2. Solve the below-given questions using at least one of the following:\n",
    "- 1. Lambda function\n",
    "- 2. Filter function\n",
    "- 3. Map function\n",
    "- 4. List Comprehension"
   ]
  },
  {
   "cell_type": "markdown",
   "id": "7d9459ca",
   "metadata": {},
   "source": [
    "##### 1) Check if the string starts with a particular letter"
   ]
  },
  {
   "cell_type": "code",
   "execution_count": 6,
   "id": "97ea2f51",
   "metadata": {},
   "outputs": [
    {
     "data": {
      "text/plain": [
       "['L']"
      ]
     },
     "execution_count": 6,
     "metadata": {},
     "output_type": "execute_result"
    }
   ],
   "source": [
    "y = \"Lenry\"\n",
    "\n",
    "result = [i for i in y if i.startswith('L')]\n",
    "\n",
    "result"
   ]
  },
  {
   "cell_type": "markdown",
   "id": "18bfe54c",
   "metadata": {},
   "source": [
    "#### 2) Check if the string is numeric."
   ]
  },
  {
   "cell_type": "code",
   "execution_count": 9,
   "id": "3a95c77f",
   "metadata": {},
   "outputs": [
    {
     "data": {
      "text/plain": [
       "['1', '2', '5']"
      ]
     },
     "execution_count": 9,
     "metadata": {},
     "output_type": "execute_result"
    }
   ],
   "source": [
    "j = \"l125\"\n",
    "\n",
    "result = [i for i in j if i.isdigit()]\n",
    "result"
   ]
  },
  {
   "cell_type": "markdown",
   "id": "a82d9335",
   "metadata": {},
   "source": [
    "#### 3) Sort a list of tuples having fruit names and their quantity. [(\"mango\",99),(\"orange\",80), (\"grapes\", 1000)-"
   ]
  },
  {
   "cell_type": "code",
   "execution_count": 28,
   "id": "bd9fb43e",
   "metadata": {},
   "outputs": [],
   "source": [
    "l = [(\"mango\",99),(\"orange\",80), (\"grapes\", 1000)]\n",
    "\n",
    "result = sorted(l,key = lambda x:x[1])"
   ]
  },
  {
   "cell_type": "code",
   "execution_count": 29,
   "id": "ce00cf45",
   "metadata": {},
   "outputs": [
    {
     "data": {
      "text/plain": [
       "[('orange', 80), ('mango', 99), ('grapes', 1000)]"
      ]
     },
     "execution_count": 29,
     "metadata": {},
     "output_type": "execute_result"
    }
   ],
   "source": [
    "result"
   ]
  },
  {
   "cell_type": "markdown",
   "id": "8d158142",
   "metadata": {},
   "source": [
    "#### 4)  Find the squares of numbers from 1 to 10"
   ]
  },
  {
   "cell_type": "code",
   "execution_count": 43,
   "id": "b9c86bc6",
   "metadata": {},
   "outputs": [
    {
     "data": {
      "text/plain": [
       "[1, 4, 9, 16, 25, 36, 49, 64, 81, 100]"
      ]
     },
     "execution_count": 43,
     "metadata": {},
     "output_type": "execute_result"
    }
   ],
   "source": [
    "square = [i**2 for i in range(1,11)]\n",
    "square"
   ]
  },
  {
   "cell_type": "markdown",
   "id": "5096bceb",
   "metadata": {},
   "source": [
    "#### 5) Find the cube root of numbers from 1 to 10"
   ]
  },
  {
   "cell_type": "code",
   "execution_count": 46,
   "id": "fb59d699",
   "metadata": {},
   "outputs": [
    {
     "name": "stdout",
     "output_type": "stream",
     "text": [
      "[1, 8, 27, 64, 125, 216, 343, 512, 729, 1000]\n"
     ]
    }
   ],
   "source": [
    "\n",
    "cube_roots = list(map(lambda x: x **3, range(1,11)))\n",
    "\n",
    "print(cube_roots)\n"
   ]
  },
  {
   "cell_type": "markdown",
   "id": "996b69b2",
   "metadata": {},
   "source": [
    "#### 6) Check if a given number is even"
   ]
  },
  {
   "cell_type": "code",
   "execution_count": 55,
   "id": "942fcefc",
   "metadata": {},
   "outputs": [],
   "source": [
    "l = [2,4,45,11,8,4,4,5,4,7,7,8,94]\n",
    "\n",
    "even = list(i for i in l if i%2==0)"
   ]
  },
  {
   "cell_type": "code",
   "execution_count": 56,
   "id": "91296579",
   "metadata": {},
   "outputs": [
    {
     "name": "stdout",
     "output_type": "stream",
     "text": [
      "[2, 4, 8, 4, 4, 4, 8, 94]\n"
     ]
    }
   ],
   "source": [
    "print(even)"
   ]
  },
  {
   "cell_type": "markdown",
   "id": "74b856be",
   "metadata": {},
   "source": [
    "#### 7) Filter odd numbers from the given list. [1,2,3,4,5,6,7,8,9,10]"
   ]
  },
  {
   "cell_type": "code",
   "execution_count": 58,
   "id": "002661c5",
   "metadata": {},
   "outputs": [
    {
     "data": {
      "text/plain": [
       "[1, 3, 5, 7, 9]"
      ]
     },
     "execution_count": 58,
     "metadata": {},
     "output_type": "execute_result"
    }
   ],
   "source": [
    "l = [1,2,3,4,5,6,7,8,9,10]\n",
    "\n",
    "odd = [i for i in l if i%2!=0]\n",
    "\n",
    "odd"
   ]
  },
  {
   "cell_type": "markdown",
   "id": "c40453e4",
   "metadata": {},
   "source": [
    "#### 8) Sort a list of integers into positive and negative integers lists. [1,2,3,4,5,6,-1,-2,-3,-4,-5,0]"
   ]
  },
  {
   "cell_type": "code",
   "execution_count": 60,
   "id": "35c723c0",
   "metadata": {},
   "outputs": [
    {
     "name": "stdout",
     "output_type": "stream",
     "text": [
      "[1, 2, 3, 4, 5, 6, 0]\n"
     ]
    },
    {
     "data": {
      "text/plain": [
       "[-1, -2, -3, -4, -5]"
      ]
     },
     "execution_count": 60,
     "metadata": {},
     "output_type": "execute_result"
    }
   ],
   "source": [
    "p = [1,2,3,4,5,6,-1,-2,-3,-4,-5,0]\n",
    "\n",
    "positive = [i for i in p if i>=0]\n",
    "negative = [i for i in p if i<0]\n",
    "\n",
    "print(positive)\n",
    "negative"
   ]
  },
  {
   "cell_type": "code",
   "execution_count": null,
   "id": "fd18af0d",
   "metadata": {},
   "outputs": [],
   "source": []
  }
 ],
 "metadata": {
  "kernelspec": {
   "display_name": "Python 3 (ipykernel)",
   "language": "python",
   "name": "python3"
  },
  "language_info": {
   "codemirror_mode": {
    "name": "ipython",
    "version": 3
   },
   "file_extension": ".py",
   "mimetype": "text/x-python",
   "name": "python",
   "nbconvert_exporter": "python",
   "pygments_lexer": "ipython3",
   "version": "3.9.13"
  }
 },
 "nbformat": 4,
 "nbformat_minor": 5
}
